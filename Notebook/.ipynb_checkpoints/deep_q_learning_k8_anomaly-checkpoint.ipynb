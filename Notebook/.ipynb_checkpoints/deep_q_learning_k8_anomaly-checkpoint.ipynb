{
 "cells": [
  {
   "cell_type": "code",
   "execution_count": 1,
   "id": "fddca811",
   "metadata": {},
   "outputs": [],
   "source": [
    "\"\"\"\n",
    "Project: Deep Q-Learning Based Anomaly Detection for Kubernetes Environment\n",
    "Author: Ammar Yousuf Abrahani\n",
    "Date: June 2025\n",
    "\n",
    "Description:\n",
    "This script implements a Deep Q-Learning model to detect anomalies in Kubernetes resource usage data.\n",
    "The dataset used is synthetically generated to simulate realistic CPU, Memory, Network, and Disk usage patterns.\n",
    "\n",
    "Adapted from: Concepts inspired by:\n",
    "- https://github.com/gcamfer/Anomaly-ReactionRL\n",
    "- https://www.tensorflow.org/agents\n",
    "- Custom implementation written with assistance and guidance.\n",
    "\"\"\"\n",
    "\n",
    "\n",
    "import os\n",
    "os.environ[\"CUDA_VISIBLE_DEVICES\"] = \"-1\"  # Disable GPU\n",
    "\n",
    "import numpy as np\n",
    "import pandas as pd\n",
    "import tensorflow as tf\n",
    "from tensorflow.keras.models import Sequential\n",
    "from tensorflow.keras.layers import Dense, Input\n",
    "from tensorflow.keras.optimizers import Adam\n",
    "from sklearn.model_selection import train_test_split\n",
    "from sklearn.metrics import classification_report, f1_score\n"
   ]
  },
  {
   "cell_type": "code",
   "execution_count": 2,
   "id": "7e1764c1",
   "metadata": {},
   "outputs": [
    {
     "data": {
      "text/html": [
       "<div>\n",
       "<style scoped>\n",
       "    .dataframe tbody tr th:only-of-type {\n",
       "        vertical-align: middle;\n",
       "    }\n",
       "\n",
       "    .dataframe tbody tr th {\n",
       "        vertical-align: top;\n",
       "    }\n",
       "\n",
       "    .dataframe thead th {\n",
       "        text-align: right;\n",
       "    }\n",
       "</style>\n",
       "<table border=\"1\" class=\"dataframe\">\n",
       "  <thead>\n",
       "    <tr style=\"text-align: right;\">\n",
       "      <th></th>\n",
       "      <th>cpu_usage</th>\n",
       "      <th>memory_usage</th>\n",
       "      <th>network_io</th>\n",
       "      <th>disk_io</th>\n",
       "      <th>label</th>\n",
       "    </tr>\n",
       "  </thead>\n",
       "  <tbody>\n",
       "    <tr>\n",
       "      <th>0</th>\n",
       "      <td>54.967142</td>\n",
       "      <td>41.710050</td>\n",
       "      <td>337.849431</td>\n",
       "      <td>107.373466</td>\n",
       "      <td>0.0</td>\n",
       "    </tr>\n",
       "    <tr>\n",
       "      <th>1</th>\n",
       "      <td>48.617357</td>\n",
       "      <td>44.398190</td>\n",
       "      <td>253.891734</td>\n",
       "      <td>92.133224</td>\n",
       "      <td>0.0</td>\n",
       "    </tr>\n",
       "    <tr>\n",
       "      <th>2</th>\n",
       "      <td>56.476885</td>\n",
       "      <td>57.472936</td>\n",
       "      <td>343.480296</td>\n",
       "      <td>100.574896</td>\n",
       "      <td>0.0</td>\n",
       "    </tr>\n",
       "    <tr>\n",
       "      <th>3</th>\n",
       "      <td>65.230299</td>\n",
       "      <td>56.103703</td>\n",
       "      <td>367.781893</td>\n",
       "      <td>125.569037</td>\n",
       "      <td>0.0</td>\n",
       "    </tr>\n",
       "    <tr>\n",
       "      <th>4</th>\n",
       "      <td>47.658466</td>\n",
       "      <td>49.790984</td>\n",
       "      <td>320.671745</td>\n",
       "      <td>103.821981</td>\n",
       "      <td>0.0</td>\n",
       "    </tr>\n",
       "  </tbody>\n",
       "</table>\n",
       "</div>"
      ],
      "text/plain": [
       "   cpu_usage  memory_usage  network_io     disk_io  label\n",
       "0  54.967142     41.710050  337.849431  107.373466    0.0\n",
       "1  48.617357     44.398190  253.891734   92.133224    0.0\n",
       "2  56.476885     57.472936  343.480296  100.574896    0.0\n",
       "3  65.230299     56.103703  367.781893  125.569037    0.0\n",
       "4  47.658466     49.790984  320.671745  103.821981    0.0"
      ]
     },
     "execution_count": 2,
     "metadata": {},
     "output_type": "execute_result"
    }
   ],
   "source": [
    "# Load the synthetic Kubernetes dataset\n",
    "data = pd.read_csv('../../k8_synthetic_dataset.csv')\n",
    "\n",
    "# Load the synthetic Kubernetes dataset\n",
    "data.head()\n"
   ]
  },
  {
   "cell_type": "code",
   "execution_count": 3,
   "id": "7739b930",
   "metadata": {},
   "outputs": [],
   "source": [
    "# Extract features and labels\n",
    "X = data[['cpu_usage', 'memory_usage', 'network_io', 'disk_io']].values\n",
    "y = data['label'].values.astype(int)\n"
   ]
  },
  {
   "cell_type": "code",
   "execution_count": 4,
   "id": "55621597",
   "metadata": {},
   "outputs": [
    {
     "name": "stdout",
     "output_type": "stream",
     "text": [
      "Training samples: 210\n",
      "Testing samples: 90\n"
     ]
    }
   ],
   "source": [
    "# Split dataset into training and testing (70% - 30%)\n",
    "X_train, X_test, y_train, y_test = train_test_split(\n",
    "    X, y, test_size=0.3, random_state=42\n",
    ")\n",
    "\n",
    "print(f\"Training samples: {len(X_train)}\")\n",
    "print(f\"Testing samples: {len(X_test)}\")\n"
   ]
  },
  {
   "cell_type": "code",
   "execution_count": 5,
   "id": "f82379ed",
   "metadata": {},
   "outputs": [],
   "source": [
    "# Define Q-network\n",
    "model = Sequential([\n",
    "    Input(shape=(X_train.shape[1],)),\n",
    "    Dense(32, activation='relu'),\n",
    "    Dense(16, activation='relu'),\n",
    "    Dense(2, activation='linear')  # Q-values for actions: 0 (Normal), 1 (Anomaly)\n",
    "])\n",
    "\n",
    "model.compile(optimizer=Adam(learning_rate=0.001), loss='mse')\n"
   ]
  },
  {
   "cell_type": "code",
   "execution_count": 7,
   "id": "6376aa8c",
   "metadata": {},
   "outputs": [],
   "source": [
    "# DQL settings\n",
    "episodes = 5\n",
    "epsilon = 0.9  # Exploration rate\n",
    "gamma = 0.95   # Discount factor\n"
   ]
  },
  {
   "cell_type": "code",
   "execution_count": 8,
   "id": "d0e68ea6",
   "metadata": {},
   "outputs": [
    {
     "name": "stdout",
     "output_type": "stream",
     "text": [
      "Episode 1/5\n",
      "Updated epsilon: 0.8550\n",
      "Episode 2/5\n",
      "Updated epsilon: 0.8122\n",
      "Episode 3/5\n",
      "Updated epsilon: 0.7716\n",
      "Episode 4/5\n",
      "Updated epsilon: 0.7331\n",
      "Episode 5/5\n",
      "Updated epsilon: 0.6964\n"
     ]
    }
   ],
   "source": [
    "# Train the Q-network using tabular data\n",
    "for episode in range(episodes):\n",
    "    print(f\"Episode {episode + 1}/{episodes}\")\n",
    "    \n",
    "    for i in range(len(X_train)):\n",
    "        state = np.reshape(X_train[i], [1, X_train.shape[1]])\n",
    "\n",
    "        # Epsilon-greedy action selection\n",
    "        if np.random.rand() < epsilon:\n",
    "            action = np.random.randint(2)  # Explore\n",
    "        else:\n",
    "            q_values = model.predict(state, verbose=0)\n",
    "            action = np.argmax(q_values[0])  # Exploit\n",
    "\n",
    "        # Assign reward\n",
    "        reward = 1 if action == y_train[i] else -1\n",
    "\n",
    "        # Calculate target using Bellman equation\n",
    "        target = reward\n",
    "        if i < len(X_train) - 1:\n",
    "            next_state = np.reshape(X_train[i + 1], [1, X_train.shape[1]])\n",
    "            next_q_values = model.predict(next_state, verbose=0)\n",
    "            target += gamma * np.amax(next_q_values[0])\n",
    "\n",
    "        # Update Q-value for the selected action\n",
    "        q_values = model.predict(state, verbose=0)\n",
    "        q_values[0][action] = target\n",
    "\n",
    "        model.fit(state, q_values, epochs=1, verbose=0)\n",
    "    \n",
    "    # Reduce exploration over time\n",
    "    epsilon *= 0.95\n",
    "    print(f\"Updated epsilon: {epsilon:.4f}\")\n"
   ]
  },
  {
   "cell_type": "code",
   "execution_count": 9,
   "id": "0bc45e2f",
   "metadata": {},
   "outputs": [],
   "source": [
    "# Predict class using the trained Q-network\n",
    "y_pred = []\n",
    "\n",
    "for state in X_test:\n",
    "    q_values = model.predict(np.reshape(state, [1, X_test.shape[1]]), verbose=0)\n",
    "\n",
    "    # Use argmax to choose the class with the highest predicted Q-value\n",
    "    # 0 = Normal, 1 = Anomaly\n",
    "    predicted_action = np.argmax(q_values[0])\n",
    "    \n",
    "    y_pred.append(predicted_action)\n"
   ]
  },
  {
   "cell_type": "code",
   "execution_count": 10,
   "id": "ebc2ef3b",
   "metadata": {},
   "outputs": [
    {
     "name": "stdout",
     "output_type": "stream",
     "text": [
      "📊 Final Deep Q-Learning Performance:\n",
      "\n",
      "              precision    recall  f1-score   support\n",
      "\n",
      "      Normal     0.8947    0.6145    0.7286        83\n",
      "     Anomaly     0.0303    0.1429    0.0500         7\n",
      "\n",
      "    accuracy                         0.5778        90\n",
      "   macro avg     0.4625    0.3787    0.3893        90\n",
      "weighted avg     0.8275    0.5778    0.6758        90\n",
      "\n",
      "🔍 Macro Average F1-Score: 0.3893\n"
     ]
    }
   ],
   "source": [
    "# Generate classification report\n",
    "report = classification_report(y_test, y_pred, target_names=['Normal', 'Anomaly'], digits=4)\n",
    "\n",
    "# Calculate Macro Average F1-Score\n",
    "f1_macro = f1_score(y_test, y_pred, average='macro')\n",
    "\n",
    "print(\"📊 Final Deep Q-Learning Performance:\\n\")\n",
    "print(report)\n",
    "print(f\"🔍 Macro Average F1-Score: {f1_macro:.4f}\")\n"
   ]
  }
 ],
 "metadata": {
  "kernelspec": {
   "display_name": "venv_tf",
   "language": "python",
   "name": "python3"
  },
  "language_info": {
   "codemirror_mode": {
    "name": "ipython",
    "version": 3
   },
   "file_extension": ".py",
   "mimetype": "text/x-python",
   "name": "python",
   "nbconvert_exporter": "python",
   "pygments_lexer": "ipython3",
   "version": "3.12.6"
  }
 },
 "nbformat": 4,
 "nbformat_minor": 5
}
