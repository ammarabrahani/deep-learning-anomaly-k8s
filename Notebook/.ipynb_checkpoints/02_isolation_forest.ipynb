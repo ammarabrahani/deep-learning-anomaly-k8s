{
 "cells": [
  {
   "cell_type": "code",
   "execution_count": 1,
   "id": "4bbe8cce",
   "metadata": {},
   "outputs": [
    {
     "name": "stdout",
     "output_type": "stream",
     "text": [
      "📊 Isolation Forest (with make_blobs) Performance:\n",
      "\n",
      "              precision    recall  f1-score   support\n",
      "\n",
      "      Normal     0.9863    0.9633    0.9747       300\n",
      "     Anomaly     0.7885    0.9111    0.8454        45\n",
      "\n",
      "    accuracy                         0.9565       345\n",
      "   macro avg     0.8874    0.9372    0.9100       345\n",
      "weighted avg     0.9605    0.9565    0.9578       345\n",
      "\n"
     ]
    }
   ],
   "source": [
    "import numpy as np\n",
    "import pandas as pd\n",
    "from sklearn.datasets import make_blobs\n",
    "from sklearn.ensemble import IsolationForest\n",
    "from sklearn.metrics import classification_report\n",
    "\n",
    "# Configuration\n",
    "n_samples = 300\n",
    "outliers_fraction = 0.15\n",
    "n_outliers = int(outliers_fraction * n_samples)\n",
    "n_inliers = n_samples\n",
    "\n",
    "# Generate blob dataset (2D for visualization and testing)\n",
    "X_inliers, _ = make_blobs(n_samples=n_inliers, centers=[[0, 0]], cluster_std=0.5, random_state=42)\n",
    "X_outliers = np.random.uniform(low=-6, high=6, size=(n_outliers, 2))\n",
    "X = np.vstack((X_inliers, X_outliers))\n",
    "y_true = np.hstack((np.zeros(n_inliers), np.ones(n_outliers)))  # 0 = normal, 1 = anomaly\n",
    "\n",
    "# Fit Isolation Forest\n",
    "iso_forest = IsolationForest(contamination=outliers_fraction, random_state=42)\n",
    "iso_forest.fit(X)\n",
    "y_pred = iso_forest.predict(X)\n",
    "\n",
    "# Convert predictions: -1 = anomaly → 1, 1 = normal → 0\n",
    "y_pred = [1 if pred == -1 else 0 for pred in y_pred]\n",
    "\n",
    "# Evaluation\n",
    "report = classification_report(y_true, y_pred, target_names=['Normal', 'Anomaly'], digits=4)\n",
    "print(\"📊 Isolation Forest (with make_blobs) Performance:\\n\")\n",
    "print(report)\n"
   ]
  }
 ],
 "metadata": {
  "kernelspec": {
   "display_name": "venv_tf",
   "language": "python",
   "name": "python3"
  },
  "language_info": {
   "codemirror_mode": {
    "name": "ipython",
    "version": 3
   },
   "file_extension": ".py",
   "mimetype": "text/x-python",
   "name": "python",
   "nbconvert_exporter": "python",
   "pygments_lexer": "ipython3",
   "version": "3.12.6"
  }
 },
 "nbformat": 4,
 "nbformat_minor": 5
}
