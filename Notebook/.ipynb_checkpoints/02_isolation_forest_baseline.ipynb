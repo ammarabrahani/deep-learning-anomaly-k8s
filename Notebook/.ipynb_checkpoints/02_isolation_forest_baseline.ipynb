{
 "cells": [
  {
   "cell_type": "code",
   "execution_count": null,
   "id": "52070604",
   "metadata": {},
   "outputs": [],
   "source": [
    "import pandas as pd\n",
    "from sklearn.ensemble import IsolationForest\n",
    "from sklearn.metrics import classification_report\n"
   ]
  },
  {
   "cell_type": "code",
   "execution_count": null,
   "id": "aa54f577",
   "metadata": {},
   "outputs": [],
   "source": [
    "# Load dataset (adjust path if needed)\n",
    "data = pd.read_csv(\"../data/raw/k8_synthetic_dataset.csv\")\n",
    "data.head()\n"
   ]
  },
  {
   "cell_type": "code",
   "execution_count": null,
   "id": "3b0d1173",
   "metadata": {},
   "outputs": [],
   "source": [
    "# Separate features and labels\n",
    "X = data[['cpu_usage', 'memory_usage', 'network_io', 'disk_io']]\n",
    "y_true = data['label']\n"
   ]
  },
  {
   "cell_type": "code",
   "execution_count": null,
   "id": "c0fd8fb2",
   "metadata": {},
   "outputs": [],
   "source": [
    "# Initialize Isolation Forest model\n",
    "iso_forest = IsolationForest(contamination=0.05, random_state=42)\n",
    "\n",
    "# Train model\n",
    "iso_forest.fit(X)\n",
    "\n",
    "# Predict anomalies\n",
    "y_pred = iso_forest.predict(X)\n"
   ]
  },
  {
   "cell_type": "code",
   "execution_count": null,
   "id": "c200945f",
   "metadata": {},
   "outputs": [],
   "source": [
    "# Convert predictions: -1 → 1 (Anomaly), 1 → 0 (Normal)\n",
    "y_pred = [1 if pred == -1 else 0 for pred in y_pred]\n"
   ]
  },
  {
   "cell_type": "code",
   "execution_count": null,
   "id": "14cb3e0a",
   "metadata": {},
   "outputs": [],
   "source": [
    "# Print evaluation report\n",
    "report = classification_report(y_true, y_pred, target_names=['Normal', 'Anomaly'], digits=4)\n",
    "\n",
    "print(\"📊 Isolation Forest Baseline Performance:\\n\")\n",
    "print(report)\n"
   ]
  }
 ],
 "metadata": {
  "language_info": {
   "name": "python"
  }
 },
 "nbformat": 4,
 "nbformat_minor": 5
}
