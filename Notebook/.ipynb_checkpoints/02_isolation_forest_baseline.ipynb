{
 "cells": [
  {
   "cell_type": "code",
   "execution_count": 1,
   "id": "52070604",
   "metadata": {},
   "outputs": [],
   "source": [
    "import pandas as pd\n",
    "from sklearn.ensemble import IsolationForest\n",
    "from sklearn.metrics import classification_report\n"
   ]
  },
  {
   "cell_type": "code",
   "execution_count": 2,
   "id": "aa54f577",
   "metadata": {},
   "outputs": [
    {
     "data": {
      "text/html": [
       "<div>\n",
       "<style scoped>\n",
       "    .dataframe tbody tr th:only-of-type {\n",
       "        vertical-align: middle;\n",
       "    }\n",
       "\n",
       "    .dataframe tbody tr th {\n",
       "        vertical-align: top;\n",
       "    }\n",
       "\n",
       "    .dataframe thead th {\n",
       "        text-align: right;\n",
       "    }\n",
       "</style>\n",
       "<table border=\"1\" class=\"dataframe\">\n",
       "  <thead>\n",
       "    <tr style=\"text-align: right;\">\n",
       "      <th></th>\n",
       "      <th>cpu_usage</th>\n",
       "      <th>memory_usage</th>\n",
       "      <th>network_io</th>\n",
       "      <th>disk_io</th>\n",
       "      <th>label</th>\n",
       "    </tr>\n",
       "  </thead>\n",
       "  <tbody>\n",
       "    <tr>\n",
       "      <th>0</th>\n",
       "      <td>54.967142</td>\n",
       "      <td>41.710050</td>\n",
       "      <td>337.849431</td>\n",
       "      <td>107.373466</td>\n",
       "      <td>0.0</td>\n",
       "    </tr>\n",
       "    <tr>\n",
       "      <th>1</th>\n",
       "      <td>48.617357</td>\n",
       "      <td>44.398190</td>\n",
       "      <td>253.891734</td>\n",
       "      <td>92.133224</td>\n",
       "      <td>0.0</td>\n",
       "    </tr>\n",
       "    <tr>\n",
       "      <th>2</th>\n",
       "      <td>56.476885</td>\n",
       "      <td>57.472936</td>\n",
       "      <td>343.480296</td>\n",
       "      <td>100.574896</td>\n",
       "      <td>0.0</td>\n",
       "    </tr>\n",
       "    <tr>\n",
       "      <th>3</th>\n",
       "      <td>65.230299</td>\n",
       "      <td>56.103703</td>\n",
       "      <td>367.781893</td>\n",
       "      <td>125.569037</td>\n",
       "      <td>0.0</td>\n",
       "    </tr>\n",
       "    <tr>\n",
       "      <th>4</th>\n",
       "      <td>47.658466</td>\n",
       "      <td>49.790984</td>\n",
       "      <td>320.671745</td>\n",
       "      <td>103.821981</td>\n",
       "      <td>0.0</td>\n",
       "    </tr>\n",
       "  </tbody>\n",
       "</table>\n",
       "</div>"
      ],
      "text/plain": [
       "   cpu_usage  memory_usage  network_io     disk_io  label\n",
       "0  54.967142     41.710050  337.849431  107.373466    0.0\n",
       "1  48.617357     44.398190  253.891734   92.133224    0.0\n",
       "2  56.476885     57.472936  343.480296  100.574896    0.0\n",
       "3  65.230299     56.103703  367.781893  125.569037    0.0\n",
       "4  47.658466     49.790984  320.671745  103.821981    0.0"
      ]
     },
     "execution_count": 2,
     "metadata": {},
     "output_type": "execute_result"
    }
   ],
   "source": [
    "# Load dataset (adjust path if needed)\n",
    "data = pd.read_csv(\"../data/raw/k8_synthetic_dataset.csv\")\n",
    "data.head()\n"
   ]
  },
  {
   "cell_type": "code",
   "execution_count": 3,
   "id": "3b0d1173",
   "metadata": {},
   "outputs": [],
   "source": [
    "# Separate features and labels\n",
    "X = data[['cpu_usage', 'memory_usage', 'network_io', 'disk_io']]\n",
    "y_true = data['label']\n"
   ]
  },
  {
   "cell_type": "code",
   "execution_count": 4,
   "id": "c0fd8fb2",
   "metadata": {},
   "outputs": [],
   "source": [
    "# Initialize Isolation Forest model\n",
    "iso_forest = IsolationForest(contamination=0.05, random_state=42)\n",
    "\n",
    "# Train model\n",
    "iso_forest.fit(X)\n",
    "\n",
    "# Predict anomalies\n",
    "y_pred = iso_forest.predict(X)\n"
   ]
  },
  {
   "cell_type": "code",
   "execution_count": 5,
   "id": "c200945f",
   "metadata": {},
   "outputs": [],
   "source": [
    "# Convert predictions: -1 → 1 (Anomaly), 1 → 0 (Normal)\n",
    "y_pred = [1 if pred == -1 else 0 for pred in y_pred]\n"
   ]
  },
  {
   "cell_type": "code",
   "execution_count": 6,
   "id": "14cb3e0a",
   "metadata": {},
   "outputs": [
    {
     "name": "stdout",
     "output_type": "stream",
     "text": [
      "📊 Isolation Forest Baseline Performance:\n",
      "\n",
      "              precision    recall  f1-score   support\n",
      "\n",
      "      Normal     0.9895    0.9895    0.9895       285\n",
      "     Anomaly     0.8000    0.8000    0.8000        15\n",
      "\n",
      "    accuracy                         0.9800       300\n",
      "   macro avg     0.8947    0.8947    0.8947       300\n",
      "weighted avg     0.9800    0.9800    0.9800       300\n",
      "\n"
     ]
    }
   ],
   "source": [
    "# Print evaluation report\n",
    "report = classification_report(y_true, y_pred, target_names=['Normal', 'Anomaly'], digits=4)\n",
    "\n",
    "print(\"📊 Isolation Forest Baseline Performance:\\n\")\n",
    "print(report)\n"
   ]
  }
 ],
 "metadata": {
  "kernelspec": {
   "display_name": "venv_tf",
   "language": "python",
   "name": "python3"
  },
  "language_info": {
   "codemirror_mode": {
    "name": "ipython",
    "version": 3
   },
   "file_extension": ".py",
   "mimetype": "text/x-python",
   "name": "python",
   "nbconvert_exporter": "python",
   "pygments_lexer": "ipython3",
   "version": "3.12.6"
  }
 },
 "nbformat": 4,
 "nbformat_minor": 5
}
