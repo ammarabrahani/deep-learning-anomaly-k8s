{
 "cells": [
  {
   "cell_type": "markdown",
   "metadata": {},
   "source": [
    "# Autoencoder Benchmark\n",
    "This notebook compares Autoencoder anomaly detection on classic 2D datasets using the same setup as ISOF, LOF, and other baseline models."
   ]
  },
  {
   "cell_type": "code",
   "execution_count": 15,
   "metadata": {},
   "outputs": [],
   "source": [
    "# Imports\n",
    "import numpy as np\n",
    "import pandas as pd\n",
    "import matplotlib.pyplot as plt\n",
    "from sklearn.datasets import make_blobs, make_moons\n",
    "from sklearn.metrics import f1_score\n",
    "from sklearn.preprocessing import StandardScaler\n",
    "from tensorflow.keras.models import Model\n",
    "from tensorflow.keras.layers import Input, Dense\n",
    "from tensorflow.keras.optimizers import Adam"
   ]
  },
  {
   "cell_type": "code",
   "execution_count": 16,
   "metadata": {},
   "outputs": [],
   "source": [
    "# Define helper function to build Autoencoder\n",
    "def build_autoencoder(input_dim):\n",
    "    input_layer = Input(shape=(input_dim,))\n",
    "    encoder = Dense(8, activation=\"relu\")(input_layer)\n",
    "    decoder = Dense(input_dim, activation=\"linear\")(encoder)\n",
    "    autoencoder = Model(inputs=input_layer, outputs=decoder)\n",
    "    autoencoder.compile(optimizer=Adam(learning_rate=0.001), loss='mse')\n",
    "    return autoencoder"
   ]
  },
  {
   "cell_type": "code",
   "execution_count": 17,
   "metadata": {},
   "outputs": [],
   "source": [
    "# Generate datasets\n",
    "n_samples = 300\n",
    "outliers_fraction = 0.15\n",
    "n_outliers = int(outliers_fraction * n_samples)\n",
    "n_inliers = n_samples  # FIXED: Use full 300 inliers\n",
    "blobs_params = dict(random_state=0, n_samples=n_inliers, n_features=2)\n",
    "datasets = [\n",
    "    make_blobs(centers=[[0, 0], [0, 0]], cluster_std=0.5, **blobs_params)[0],\n",
    "]"
   ]
  },
  {
   "cell_type": "code",
   "execution_count": 19,
   "metadata": {},
   "outputs": [
    {
     "name": "stdout",
     "output_type": "stream",
     "text": [
      "\u001b[1m11/11\u001b[0m \u001b[32m━━━━━━━━━━━━━━━━━━━━\u001b[0m\u001b[37m\u001b[0m \u001b[1m0s\u001b[0m 5ms/step \n",
      "      Model  Macro F1-Score  Accuracy\n",
      "Autoencoder           0.958    0.9797\n"
     ]
    }
   ],
   "source": [
    "# Evaluate Autoencoder on each dataset\n",
    "results = []\n",
    "\n",
    "for i, X in enumerate(datasets):\n",
    "    rng = np.random.RandomState(42)\n",
    "    X_outliers = rng.uniform(low=-6, high=6, size=(n_outliers, 2))\n",
    "    X_full = np.concatenate([X, X_outliers], axis=0)\n",
    "    y_true = np.concatenate([np.zeros(n_inliers), np.ones(n_outliers)])\n",
    "\n",
    "    scaler = StandardScaler()\n",
    "    X_scaled = scaler.fit_transform(X_full)\n",
    "\n",
    "    model = build_autoencoder(input_dim=2)\n",
    "    model.fit(X_scaled[y_true == 0], X_scaled[y_true == 0],\n",
    "              epochs=20, batch_size=16, verbose=0)\n",
    "\n",
    "    reconstructions = model.predict(X_scaled)\n",
    "    mse = np.mean(np.square(X_scaled - reconstructions), axis=1)\n",
    "    threshold = np.percentile(mse, 100 * (1 - outliers_fraction))\n",
    "    y_pred = (mse > threshold).astype(int)\n",
    "\n",
    "    f1 = f1_score(y_true, y_pred, average='macro')\n",
    "    acc = np.mean(y_true == y_pred)\n",
    "\n",
    "    results.append({\n",
    "        'Model': 'Autoencoder',\n",
    "        'Macro F1-Score': round(f1, 4),\n",
    "        'Accuracy': round(acc, 4)\n",
    "    })\n",
    "\n",
    "df = pd.DataFrame(results)\n",
    "print(df.to_string(index=False))"
   ]
  }
 ],
 "metadata": {
  "kernelspec": {
   "display_name": "venv_tf",
   "language": "python",
   "name": "python3"
  },
  "language_info": {
   "codemirror_mode": {
    "name": "ipython",
    "version": 3
   },
   "file_extension": ".py",
   "mimetype": "text/x-python",
   "name": "python",
   "nbconvert_exporter": "python",
   "pygments_lexer": "ipython3",
   "version": "3.12.6"
  }
 },
 "nbformat": 4,
 "nbformat_minor": 5
}
