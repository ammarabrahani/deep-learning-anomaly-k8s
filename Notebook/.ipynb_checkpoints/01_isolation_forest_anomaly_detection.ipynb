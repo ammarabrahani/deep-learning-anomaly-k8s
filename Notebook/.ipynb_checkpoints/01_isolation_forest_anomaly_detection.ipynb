{
 "cells": [
  {
   "cell_type": "markdown",
   "id": "0bf48e1f",
   "metadata": {},
   "source": [
    "\n",
    "# Isolation Forest for Anomaly Detection\n",
    "**Course/Project**: A novel Deep Q Learning Anomaly Detection\n",
    "\n",
    "---\n",
    "\n",
    "### Description:\n",
    "This notebook demonstrates the use of the Isolation Forest algorithm from scikit-learn  \n",
    "to detect anomalies. Normal instances are created using  \n",
    "Gaussian blobs, and outliers are introduced as uniformly distributed noise.\n",
    "\n",
    "### References:\n",
    "- [scikit-learn Isolation Forest Documentation](https://scikit-learn.org/stable/modules/generated/sklearn.ensemble.IsolationForest.html)\n",
    "- [make_blobs Documentation](https://scikit-learn.org/stable/modules/generated/sklearn.datasets.make_blobs.html)\n",
    "- [Scikit-learn GitHub Example](https://github.com/scikit-learn/scikit-learn/blob/main/examples/applications/plot_outlier_detection_wine.py)\n",
    "\n"
   ]
  },
  {
   "cell_type": "code",
   "execution_count": 1,
   "id": "8a8fe2e1",
   "metadata": {},
   "outputs": [],
   "source": [
    "import numpy as np\n",
    "import pandas as pd\n",
    "from sklearn.datasets import make_blobs\n",
    "from sklearn.ensemble import IsolationForest\n",
    "from sklearn.metrics import classification_report"
   ]
  },
  {
   "cell_type": "code",
   "execution_count": 2,
   "id": "7b168f5c",
   "metadata": {},
   "outputs": [],
   "source": [
    "# Configuration\n",
    "n_samples = 300\n",
    "outliers_fraction = 0.15\n",
    "n_outliers = int(outliers_fraction * n_samples)\n",
    "n_inliers = n_samples"
   ]
  },
  {
   "cell_type": "code",
   "execution_count": 3,
   "id": "44e6c6ff",
   "metadata": {},
   "outputs": [],
   "source": [
    "# Generate blob dataset (2D for visualization and testing)\n",
    "X_inliers, _ = make_blobs(n_samples=n_inliers, centers=[[0, 0]], cluster_std=0.5, random_state=42)\n",
    "X_outliers = np.random.uniform(low=-6, high=6, size=(n_outliers, 2))\n",
    "X = np.vstack((X_inliers, X_outliers))\n",
    "y_true = np.hstack((np.zeros(n_inliers), np.ones(n_outliers)))  # 0 = normal, 1 = anomaly"
   ]
  },
  {
   "cell_type": "code",
   "execution_count": 4,
   "id": "750a9120",
   "metadata": {},
   "outputs": [],
   "source": [
    "# Fit Isolation Forest\n",
    "iso_forest = IsolationForest(contamination=outliers_fraction, random_state=42)\n",
    "iso_forest.fit(X)\n",
    "y_pred = iso_forest.predict(X)\n",
    "\n",
    "# Convert predictions: -1 = anomaly → 1, 1 = normal → 0\n",
    "y_pred = [1 if pred == -1 else 0 for pred in y_pred]"
   ]
  },
  {
   "cell_type": "code",
   "execution_count": 5,
   "id": "ede8e31a",
   "metadata": {},
   "outputs": [
    {
     "name": "stdout",
     "output_type": "stream",
     "text": [
      "📊 Isolation Forest Performance:\n",
      "\n",
      "              precision    recall  f1-score   support\n",
      "\n",
      "      Normal     0.9932    0.9700    0.9815       300\n",
      "     Anomaly     0.8269    0.9556    0.8866        45\n",
      "\n",
      "    accuracy                         0.9681       345\n",
      "   macro avg     0.9100    0.9628    0.9340       345\n",
      "weighted avg     0.9715    0.9681    0.9691       345\n",
      "\n"
     ]
    }
   ],
   "source": [
    "# Evaluation\n",
    "report = classification_report(y_true, y_pred, target_names=['Normal', 'Anomaly'], digits=4)\n",
    "print(\"📊 Isolation Forest Performance:\\n\")\n",
    "print(report)"
   ]
  }
 ],
 "metadata": {
  "kernelspec": {
   "display_name": "venv_tf",
   "language": "python",
   "name": "python3"
  },
  "language_info": {
   "codemirror_mode": {
    "name": "ipython",
    "version": 3
   },
   "file_extension": ".py",
   "mimetype": "text/x-python",
   "name": "python",
   "nbconvert_exporter": "python",
   "pygments_lexer": "ipython3",
   "version": "3.12.6"
  }
 },
 "nbformat": 4,
 "nbformat_minor": 5
}
