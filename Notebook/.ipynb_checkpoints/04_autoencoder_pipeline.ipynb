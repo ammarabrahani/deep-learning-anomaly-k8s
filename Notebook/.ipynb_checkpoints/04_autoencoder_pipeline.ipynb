{
 "cells": [
  {
   "cell_type": "markdown",
   "id": "648225f7",
   "metadata": {},
   "source": [
    "\n",
    "# Autoencoder-Based Anomaly Detection on Scikit-learn Data\n",
    "\n",
    "**Author**: Ammar Yousuf Abrahani  \n",
    "**Course/Project**: A novel Deep Q Learning Anomaly Detection \n",
    "\n",
    "---\n",
    "\n",
    "### Description:\n",
    "This notebook evaluates the performance of a basic feedforward Autoencoder for anomaly detection on a synthetic dataset generated using `make_blobs`. Anomalies are introduced manually via uniformly distributed noise. The Autoencoder is trained only on normal data and attempts to reconstruct inputs. Anomalies are identified based on high reconstruction error (MSE).\n",
    "\n",
    "---\n",
    "\n",
    "### References and Source Links:\n",
    "- [TensorFlow Keras Documentation](https://www.tensorflow.org/api_docs/python/tf/keras)\n",
    "- [Keras Autoencoder Example (TensorFlow Guide)](https://www.tensorflow.org/tutorials/generative/autoencoder)\n",
    "- [scikit-learn make_blobs](https://scikit-learn.org/stable/modules/generated/sklearn.datasets.make_blobs.html)\n",
    "- [scikit-learn F1-score Metric](https://scikit-learn.org/stable/modules/generated/sklearn.metrics.f1_score.html)\n",
    "---\n",
    "\n",
    "> **Disclaimer:** This notebook was created for academic and research purposes. Please cite all libraries and external sources properly. Do not reuse or submit without proper attribution.\n"
   ]
  },
  {
   "cell_type": "code",
   "execution_count": 1,
   "id": "68705c27",
   "metadata": {},
   "outputs": [],
   "source": [
    "# Imports\n",
    "import numpy as np\n",
    "import pandas as pd\n",
    "import matplotlib.pyplot as plt\n",
    "from sklearn.datasets import make_blobs, make_moons\n",
    "from sklearn.metrics import f1_score\n",
    "from sklearn.preprocessing import StandardScaler\n",
    "from tensorflow.keras.models import Model\n",
    "from tensorflow.keras.layers import Input, Dense\n",
    "from tensorflow.keras.optimizers import Adam"
   ]
  },
  {
   "cell_type": "markdown",
   "id": "5b994350",
   "metadata": {},
   "source": [
    "## Step 1: Define Autoencoder Model"
   ]
  },
  {
   "cell_type": "code",
   "execution_count": 2,
   "id": "63587166",
   "metadata": {},
   "outputs": [],
   "source": [
    "\n",
    "# Define helper function to build Autoencoder\n",
    "def build_autoencoder(input_dim):\n",
    "    input_layer = Input(shape=(input_dim,))\n",
    "    encoder = Dense(8, activation=\"relu\")(input_layer)\n",
    "    decoder = Dense(input_dim, activation=\"linear\")(encoder)\n",
    "    autoencoder = Model(inputs=input_layer, outputs=decoder)\n",
    "    autoencoder.compile(optimizer=Adam(learning_rate=0.001), loss='mse')\n",
    "    return autoencoder\n"
   ]
  },
  {
   "cell_type": "markdown",
   "id": "dc3fccbf",
   "metadata": {},
   "source": [
    "## Step 2: Generate Dataset"
   ]
  },
  {
   "cell_type": "code",
   "execution_count": 3,
   "id": "3a4d0cfe",
   "metadata": {},
   "outputs": [],
   "source": [
    "\n",
    "# Generate datasets\n",
    "n_samples = 300\n",
    "outliers_fraction = 0.15\n",
    "n_outliers = int(outliers_fraction * n_samples)\n",
    "n_inliers = n_samples\n",
    "blobs_params = dict(random_state=0, n_samples=n_inliers, n_features=2)\n",
    "datasets = [\n",
    "    make_blobs(centers=[[0, 0], [0, 0]], cluster_std=0.5, **blobs_params)[0],\n",
    "]\n"
   ]
  },
  {
   "cell_type": "markdown",
   "id": "5abdd395",
   "metadata": {},
   "source": [
    "## Step 3: Train Autoencoder and Evaluate"
   ]
  },
  {
   "cell_type": "code",
   "execution_count": 4,
   "id": "b169b2af",
   "metadata": {},
   "outputs": [
    {
     "name": "stdout",
     "output_type": "stream",
     "text": [
      "\u001b[1m11/11\u001b[0m \u001b[32m━━━━━━━━━━━━━━━━━━━━\u001b[0m\u001b[37m\u001b[0m \u001b[1m0s\u001b[0m 3ms/step \n"
     ]
    }
   ],
   "source": [
    "\n",
    "# Evaluate Autoencoder on each dataset\n",
    "results = []\n",
    "\n",
    "for i, X in enumerate(datasets):\n",
    "    rng = np.random.RandomState(42)\n",
    "    X_outliers = rng.uniform(low=-6, high=6, size=(n_outliers, 2))\n",
    "    X_full = np.concatenate([X, X_outliers], axis=0)\n",
    "    y_true = np.concatenate([np.zeros(n_inliers), np.ones(n_outliers)])\n",
    "\n",
    "    scaler = StandardScaler()\n",
    "    X_scaled = scaler.fit_transform(X_full)\n",
    "\n",
    "    model = build_autoencoder(input_dim=2)\n",
    "    model.fit(X_scaled[y_true == 0], X_scaled[y_true == 0],\n",
    "              epochs=20, batch_size=16, verbose=0)\n",
    "\n",
    "    reconstructions = model.predict(X_scaled)\n",
    "    mse = np.mean(np.square(X_scaled - reconstructions), axis=1)\n",
    "    threshold = np.percentile(mse, 100 * (1 - outliers_fraction))\n",
    "    y_pred = (mse > threshold).astype(int)\n",
    "\n",
    "    f1 = f1_score(y_true, y_pred, average='macro')\n",
    "    acc = np.mean(y_true == y_pred)\n",
    "\n",
    "    results.append({\n",
    "        'Model': 'Autoencoder',\n",
    "        'Macro F1-Score': round(f1, 4),\n",
    "        'Accuracy': round(acc, 4)\n",
    "    })\n"
   ]
  },
  {
   "cell_type": "markdown",
   "id": "778f6959",
   "metadata": {},
   "source": [
    "## Step 4: Print Results"
   ]
  },
  {
   "cell_type": "code",
   "execution_count": 5,
   "id": "e70666bd",
   "metadata": {},
   "outputs": [
    {
     "name": "stdout",
     "output_type": "stream",
     "text": [
      "      Model  Macro F1-Score  Accuracy\n",
      "Autoencoder           0.922    0.9623\n"
     ]
    }
   ],
   "source": [
    "\n",
    "df = pd.DataFrame(results)\n",
    "print(df.to_string(index=False))\n"
   ]
  }
 ],
 "metadata": {
  "kernelspec": {
   "display_name": "venv_tf",
   "language": "python",
   "name": "python3"
  },
  "language_info": {
   "codemirror_mode": {
    "name": "ipython",
    "version": 3
   },
   "file_extension": ".py",
   "mimetype": "text/x-python",
   "name": "python",
   "nbconvert_exporter": "python",
   "pygments_lexer": "ipython3",
   "version": "3.12.6"
  }
 },
 "nbformat": 4,
 "nbformat_minor": 5
}
