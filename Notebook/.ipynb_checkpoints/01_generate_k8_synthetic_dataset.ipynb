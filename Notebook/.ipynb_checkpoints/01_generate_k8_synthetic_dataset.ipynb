{
 "cells": [
  {
   "cell_type": "code",
   "execution_count": 7,
   "id": "5aa0dd24",
   "metadata": {},
   "outputs": [],
   "source": [
    "import pandas as pd\n",
    "import numpy as np\n",
    "import os\n",
    "\n",
    "# Create folder if it doesn't exist\n",
    "os.makedirs(\"../data/raw\", exist_ok=True)\n"
   ]
  },
  {
   "cell_type": "code",
   "execution_count": 8,
   "id": "5a90ca04",
   "metadata": {},
   "outputs": [],
   "source": [
    "# Set random seed for reproducibility\n",
    "np.random.seed(42)\n"
   ]
  },
  {
   "cell_type": "code",
   "execution_count": 9,
   "id": "1e4d6059",
   "metadata": {},
   "outputs": [],
   "source": [
    "# Number of data points\n",
    "num_samples = 300\n",
    "\n",
    "# Generate synthetic Kubernetes metrics (Normal)\n",
    "cpu_usage = np.random.normal(loc=50, scale=10, size=num_samples)\n",
    "memory_usage = np.random.normal(loc=50, scale=10, size=num_samples)\n",
    "network_io = np.random.normal(loc=300, scale=50, size=num_samples)\n",
    "disk_io = np.random.normal(loc=100, scale=20, size=num_samples)\n"
   ]
  },
  {
   "cell_type": "code",
   "execution_count": 10,
   "id": "dcbed4af",
   "metadata": {},
   "outputs": [],
   "source": [
    "# Generate anomalies (5% anomalies)\n",
    "num_anomalies = int(0.05 * num_samples)\n",
    "anomaly_indices = np.random.choice(num_samples, num_anomalies, replace=False)\n",
    "\n",
    "# Introduce anomalies\n",
    "cpu_usage[anomaly_indices] = np.random.normal(loc=90, scale=5, size=num_anomalies)\n",
    "memory_usage[anomaly_indices] = np.random.normal(loc=90, scale=5, size=num_anomalies)\n",
    "network_io[anomaly_indices] = np.random.normal(loc=600, scale=30, size=num_anomalies)\n",
    "disk_io[anomaly_indices] = np.random.normal(loc=200, scale=10, size=num_anomalies)\n"
   ]
  },
  {
   "cell_type": "code",
   "execution_count": 11,
   "id": "076106c7",
   "metadata": {},
   "outputs": [],
   "source": [
    "# Labels (0: Normal, 1: Anomaly)\n",
    "labels = np.zeros(num_samples)\n",
    "labels[anomaly_indices] = 1\n"
   ]
  },
  {
   "cell_type": "code",
   "execution_count": 12,
   "id": "e93f0fee",
   "metadata": {},
   "outputs": [
    {
     "name": "stdout",
     "output_type": "stream",
     "text": [
      "✅ Synthetic Kubernetes dataset generated and saved as 'data/raw/k8_synthetic_dataset.csv'\n"
     ]
    }
   ],
   "source": [
    "# Create DataFrame\n",
    "data = pd.DataFrame({\n",
    "    'cpu_usage': cpu_usage,\n",
    "    'memory_usage': memory_usage,\n",
    "    'network_io': network_io,\n",
    "    'disk_io': disk_io,\n",
    "    'label': labels\n",
    "})\n",
    "\n",
    "\n",
    "# Save CSV\n",
    "data.to_csv(\"../data/raw/k8_synthetic_dataset.csv\", index=False)\n",
    "\n",
    "\n",
    "print(\"✅ Synthetic Kubernetes dataset generated and saved as 'data/raw/k8_synthetic_dataset.csv'\")\n"
   ]
  }
 ],
 "metadata": {
  "kernelspec": {
   "display_name": "venv_tf",
   "language": "python",
   "name": "python3"
  },
  "language_info": {
   "codemirror_mode": {
    "name": "ipython",
    "version": 3
   },
   "file_extension": ".py",
   "mimetype": "text/x-python",
   "name": "python",
   "nbconvert_exporter": "python",
   "pygments_lexer": "ipython3",
   "version": "3.12.6"
  }
 },
 "nbformat": 4,
 "nbformat_minor": 5
}
